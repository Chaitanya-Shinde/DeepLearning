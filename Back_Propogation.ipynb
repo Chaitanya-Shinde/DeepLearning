{
  "nbformat": 4,
  "nbformat_minor": 0,
  "metadata": {
    "colab": {
      "provenance": [],
      "authorship_tag": "ABX9TyOhY9Ns6t+V1n89/GJMdoSK",
      "include_colab_link": true
    },
    "kernelspec": {
      "name": "python3",
      "display_name": "Python 3"
    },
    "language_info": {
      "name": "python"
    }
  },
  "cells": [
    {
      "cell_type": "markdown",
      "metadata": {
        "id": "view-in-github",
        "colab_type": "text"
      },
      "source": [
        "<a href=\"https://colab.research.google.com/github/Chaitanya-Shinde/DeepLearning/blob/main/Back_Propogation.ipynb\" target=\"_parent\"><img src=\"https://colab.research.google.com/assets/colab-badge.svg\" alt=\"Open In Colab\"/></a>"
      ]
    },
    {
      "cell_type": "markdown",
      "source": [
        "# Back Propogation in deep learning"
      ],
      "metadata": {
        "id": "2Yb6d2iThq-f"
      }
    },
    {
      "cell_type": "markdown",
      "source": [
        "Backpropagation is the key algorithm used for training neural networks, allowing them to learn from data. It is based on the gradient descent optimization technique and works by iteratively adjusting the weights and biases of the network to minimize the error between the predicted and actual outputs.\n",
        " In this lab, we will create a neural network to implement backpropagation for a XOR problem.\n"
      ],
      "metadata": {
        "id": "EtPa3GAChpVB"
      }
    },
    {
      "cell_type": "markdown",
      "source": [
        "# Objective for this notebook\n",
        "\n",
        "* Train a Neural Network to Solve the XOR Problem\n",
        "* Implement Backpropagation for Neural Network Training\n",
        "* Demonstrate the Use of Activation Functions\n",
        "* Understand the Learning Process Over Multiple Epochs\n",
        "* Demonstrate Weight and Bias Adjustments via Gradient Descent\n",
        "* Evaluate the Model's Performance After Training\n",
        "* Monitor and Analyze the Training Process"
      ],
      "metadata": {
        "id": "iLjdp5MWhnQT"
      }
    },
    {
      "cell_type": "code",
      "execution_count": 1,
      "metadata": {
        "id": "mvh4JqY1fl30"
      },
      "outputs": [],
      "source": [
        "import numpy as np\n",
        "import matplotlib.pyplot as plt"
      ]
    },
    {
      "cell_type": "code",
      "source": [
        "# defining inputs and expected outputs for the XOR truth table\n",
        "X = np.array([[0,0],[0,1],[1,0],[1,1]]).T\n",
        "d = np.array([0,1,1,0])"
      ],
      "metadata": {
        "id": "pd8Og_ojfqvz"
      },
      "execution_count": 10,
      "outputs": []
    },
    {
      "cell_type": "markdown",
      "source": [
        "<img src=\"http://cocl.us/neural_network_example\" alt=\"Neural Network Example\" width=\"600px\">"
      ],
      "metadata": {
        "id": "x88uEVB76hH9"
      }
    },
    {
      "cell_type": "markdown",
      "source": [
        "# Declare the network parameters\n",
        "\n",
        "Define the network parameters such as\n",
        "1. number of input neurons\n",
        "2. hidden layer neurons\n",
        "3. output neurons\n",
        "4. learning rate\n",
        "5. number of epochs\n"
      ],
      "metadata": {
        "id": "q08DHfBqiFCw"
      }
    },
    {
      "cell_type": "code",
      "source": [
        "num_inputNeurons = 2\n",
        "num_hiddenNeurons = 2\n",
        "num_outputNeurons = 1\n",
        "learningRate = 0.1\n",
        "epochs = 180000"
      ],
      "metadata": {
        "id": "faV3AVrziBJ6"
      },
      "execution_count": 11,
      "outputs": []
    },
    {
      "cell_type": "markdown",
      "source": [
        "## Initializing the weights\n",
        "Declare the weights for the neurons. The initial weights are taken as random numbers which are then optimized by the backpropagation algorithm\n"
      ],
      "metadata": {
        "id": "Q9UGtizniasq"
      }
    },
    {
      "cell_type": "code",
      "source": [
        "w1 = np.random.rand(num_hiddenNeurons, num_inputNeurons) *2 -1 # weights from input to hidden layer\n",
        "b1 = np.random.rand(num_hiddenNeurons, 1) * 2 - 1 #Bias for hidden layer\n",
        "\n",
        "w2 = np.random.rand(num_outputNeurons, num_hiddenNeurons) *2 -1 #weights from hidden to output layer\n",
        "b2 = np.random.rand(num_outputNeurons, 1) * 2 -1 #bias for output layer"
      ],
      "metadata": {
        "id": "PeGPRA0LiX5V"
      },
      "execution_count": 12,
      "outputs": []
    },
    {
      "cell_type": "markdown",
      "source": [],
      "metadata": {
        "id": "xJ_VLQnMDLzf"
      }
    },
    {
      "cell_type": "code",
      "source": [
        "print(w1)"
      ],
      "metadata": {
        "colab": {
          "base_uri": "https://localhost:8080/"
        },
        "id": "bGSRn48Qlina",
        "outputId": "3617543e-9850-47c3-ef55-49e404ceb006"
      },
      "execution_count": 13,
      "outputs": [
        {
          "output_type": "stream",
          "name": "stdout",
          "text": [
            "[[ 0.23165718 -0.26024456]\n",
            " [-0.1133995  -0.07689183]]\n"
          ]
        }
      ]
    },
    {
      "cell_type": "code",
      "source": [
        "print(b1)"
      ],
      "metadata": {
        "colab": {
          "base_uri": "https://localhost:8080/"
        },
        "id": "DDOb65Eplju9",
        "outputId": "1f4d2c68-30a5-4e3f-b5e4-150fcf76945e"
      },
      "execution_count": 14,
      "outputs": [
        {
          "output_type": "stream",
          "name": "stdout",
          "text": [
            "[[-0.68397636]\n",
            " [ 0.03745159]]\n"
          ]
        }
      ]
    },
    {
      "cell_type": "code",
      "source": [
        "print(w2)"
      ],
      "metadata": {
        "colab": {
          "base_uri": "https://localhost:8080/"
        },
        "id": "o_OgbITuH1-j",
        "outputId": "535755a0-87d7-4e81-f0c4-f45b36515f29"
      },
      "execution_count": 15,
      "outputs": [
        {
          "output_type": "stream",
          "name": "stdout",
          "text": [
            "[[-0.89353576  0.4855518 ]]\n"
          ]
        }
      ]
    },
    {
      "cell_type": "code",
      "source": [
        "print(b2)"
      ],
      "metadata": {
        "colab": {
          "base_uri": "https://localhost:8080/"
        },
        "id": "GUNGYX5fH5Y9",
        "outputId": "5e3ea951-d134-4e8b-f281-1313c1a15f30"
      },
      "execution_count": 16,
      "outputs": [
        {
          "output_type": "stream",
          "name": "stdout",
          "text": [
            "[[-0.63595181]]\n"
          ]
        }
      ]
    },
    {
      "cell_type": "markdown",
      "source": [
        "## Training the Neural Network\n",
        "\n",
        "The neural network works in 5 stages:\n",
        "1. Forward pass\n",
        "    * The input **X** is multiplied by the weights **w1** and passed through the first layer, followed by the application of the sigmoid or ReLU activation function. This gives the output for the hidden layer.\n",
        "    * The output of the hidden layer is then passed through the second set of weights **w2** to compute the final output. Again, a sigmoid activation function is used to generate the final output **a2**.\n",
        "    \n",
        "2. Error calculation\n",
        "    * The error is computed as the difference between the expected output **(d)** and the actual output **(a2)**.\n",
        "3. Backward pass\n",
        "    * **Output Layer**: The derivative of the sigmoid activation function is applied to the error, producing the gradient for the output layer **(da2)**. This is used to calculate how much the weights in the output layer need to be adjusted.\n",
        "    * **Hidden Layer**: The error is then propagated backward to the hidden layer. The gradient at the hidden layer **(da1)** is computed by taking the dot product of the transpose of the weights **(w2.T)** and the gradient from the output layer. The derivative of the activation function (sigmoid or ReLU) is used to adjust this error.\n",
        "4. Weights and bias updates\n",
        "    * After computing the **gradients (dz1, dz2)**, the **weights (w1, w2)** and **biases (b1, b2)** are updated using the **learning rate (lr)** and **the gradients**. The updates are done to minimize the error and improve the model’s predictions.\n",
        "5. Training:\n",
        "    * This entire process is repeated over many iterations **(epochs)**. During each epoch, the model adjusts its weights and biases to reduce the error. Over time, the network learns to approximate the XOR function.\n",
        "Forward Pass:\n",
        "\n"
      ],
      "metadata": {
        "id": "ZYcp1sBmmG9v"
      }
    },
    {
      "cell_type": "code",
      "source": [
        "error_list = []\n",
        "for epoch in range(epochs):\n",
        "  #forward pass\n",
        "  z1 = np.dot(w1,X) +b1\n",
        "  a1 = 1/(1+np.exp(-z1))\n",
        "\n",
        "  z2 = np.dot(w2,a1) + b2\n",
        "  a2 = 1/(1+np.exp(-z2))\n",
        "\n",
        "  error = d - a2\n",
        "  da2 = error * (a2 * (1 - a2))  # Derivative for output layer\n",
        "  dz2 = da2  # Gradient for output layer\n",
        "\n",
        "  # Propagate error to hidden layer\n",
        "  da1 = np.dot(w2.T, dz2)  # Gradient for hidden layer\n",
        "  dz1 = da1 * (a1 * (1 - a1))  # Derivative for hidden layer\n",
        "\n",
        "  # Update weights and biases\n",
        "  w2 += learningRate * np.dot(dz2, a1.T)  # Update weights from hidden to output layer\n",
        "  b2 += learningRate * np.sum(dz2, axis=1, keepdims=True)  # Update bias for output layer\n",
        "\n",
        "  w1 += learningRate * np.dot(dz1, X.T)  # Update weights from input to hidden layer\n",
        "  b1 += learningRate * np.sum(dz1, axis=1, keepdims=True)  # Update bias for hidden layer\n",
        "  if (epoch+1)%10000 == 0:\n",
        "      print(f\"Epoch: {epoch}, Average error: {np.round(np.average(abs(error)), decimals=4)}\")\n",
        "      error_list.append(np.average(abs(error)))\n"
      ],
      "metadata": {
        "id": "Ks5Tf4TpmDy_",
        "colab": {
          "base_uri": "https://localhost:8080/"
        },
        "outputId": "b295e35a-405b-4c84-8974-f8523a880c81"
      },
      "execution_count": 20,
      "outputs": [
        {
          "output_type": "stream",
          "name": "stdout",
          "text": [
            "Epoch: 9999, Average error: 0.0083\n",
            "Epoch: 19999, Average error: 0.0081\n",
            "Epoch: 29999, Average error: 0.0078\n",
            "Epoch: 39999, Average error: 0.0077\n",
            "Epoch: 49999, Average error: 0.0075\n",
            "Epoch: 59999, Average error: 0.0073\n",
            "Epoch: 69999, Average error: 0.0072\n",
            "Epoch: 79999, Average error: 0.007\n",
            "Epoch: 89999, Average error: 0.0069\n",
            "Epoch: 99999, Average error: 0.0067\n",
            "Epoch: 109999, Average error: 0.0066\n",
            "Epoch: 119999, Average error: 0.0065\n",
            "Epoch: 129999, Average error: 0.0064\n",
            "Epoch: 139999, Average error: 0.0063\n",
            "Epoch: 149999, Average error: 0.0062\n",
            "Epoch: 159999, Average error: 0.0061\n",
            "Epoch: 169999, Average error: 0.006\n",
            "Epoch: 179999, Average error: 0.0059\n"
          ]
        }
      ]
    },
    {
      "cell_type": "markdown",
      "source": [
        "As you can see the model is learning and the error is getting reduced"
      ],
      "metadata": {
        "id": "v7lTIqgIU2k2"
      }
    },
    {
      "cell_type": "markdown",
      "source": [
        "## Testing the Network\n",
        "After training, you can now test the neural network to verify that it has learned the XOR function and outputs the correct values close to [0, 1, 1, 0]\n"
      ],
      "metadata": {
        "id": "6TjnkJ4NVB1t"
      }
    },
    {
      "cell_type": "code",
      "source": [
        "# Testing the trained network\n",
        "z1 = np.dot(w1, X) + b1  # Weighted sum for hidden layer\n",
        "a1 = 1 / (1 + np.exp(-z1))  # Sigmoid activation for hidden layer\n",
        "\n",
        "z2 = np.dot(w2, a1) + b2  # Weighted sum for output layer\n",
        "a2 = 1 / (1 + np.exp(-z2))  # Sigmoid activation for output layer\n",
        "\n",
        "# Print results\n",
        "print('Final output after training:', a2)\n",
        "print('Ground truth', d)\n",
        "print('Error after training:', error)\n",
        "print('Average error: %0.05f'%np.average(abs(error)))\n"
      ],
      "metadata": {
        "colab": {
          "base_uri": "https://localhost:8080/"
        },
        "id": "RRS6ptlwIy8y",
        "outputId": "8eca75ec-0c30-4514-ef8d-5f925ea1cdbf"
      },
      "execution_count": 21,
      "outputs": [
        {
          "output_type": "stream",
          "name": "stdout",
          "text": [
            "Final output after training: [[0.0054521  0.99437245 0.99437229 0.00688445]]\n",
            "Ground truth [0 1 1 0]\n",
            "Error after training: [[-0.0054521   0.00562756  0.00562772 -0.00688446]]\n",
            "Average error: 0.00590\n"
          ]
        }
      ]
    },
    {
      "cell_type": "code",
      "source": [
        "# Plot error\n",
        "plt.plot(error_list)\n",
        "plt.title('Error')\n",
        "plt.xlabel('Epochs')\n",
        "plt.ylabel('Error')\n",
        "plt.show()"
      ],
      "metadata": {
        "colab": {
          "base_uri": "https://localhost:8080/",
          "height": 472
        },
        "id": "KjSxr5dXVUbA",
        "outputId": "c5cc8ffe-e2a4-42ec-edfb-7be64cefc0b7"
      },
      "execution_count": 22,
      "outputs": [
        {
          "output_type": "display_data",
          "data": {
            "text/plain": [
              "<Figure size 640x480 with 1 Axes>"
            ],
            "image/png": "[encoded data removed]"
          },
          "metadata": {}
        }
      ]
    },
    {
      "cell_type": "markdown",
      "source": [
        "### back propagation for AND problem"
      ],
      "metadata": {
        "id": "hmZfDfrXVfsb"
      }
    },
    {
      "cell_type": "code",
      "source": [
        "X = np.array([[0, 0], [0, 1], [1, 0], [1, 1]]).T  # 2x4 matrix, each column is a training example\n",
        "d = np.array([0, 0, 0, 1])  # Expected output for AND"
      ],
      "metadata": {
        "id": "2R5_L-3YVUyt"
      },
      "execution_count": 23,
      "outputs": []
    },
    {
      "cell_type": "code",
      "source": [
        "# Training the network using backpropagation\n",
        "error_list = []\n",
        "for epoch in range(epochs):\n",
        "    # Forward pass\n",
        "    z1 = np.dot(w1, X) + b1  # Weighted sum for hidden layer\n",
        "    a1 = 1 / (1 + np.exp(-z1))  # Sigmoid activation for hidden layer\n",
        "\n",
        "    z2 = np.dot(w2, a1) + b2  # Weighted sum for output layer\n",
        "    a2 = 1 / (1 + np.exp(-z2))  # Sigmoid activation for output layer\n",
        "\n",
        "    # Error calculation and backpropagation\n",
        "    error = d - a2  # Difference between expected and actual output\n",
        "    da2 = error * (a2 * (1 - a2))  # Derivative for output layer\n",
        "    dz2 = da2  # Gradient for output layer\n",
        "\n",
        "    # Propagate error to hidden layer\n",
        "    da1 = np.dot(w2.T, dz2)  # Gradient for hidden layer\n",
        "    dz1 = da1 * (a1 * (1 - a1))  # Derivative for hidden layer\n",
        "\n",
        "    # Update weights and biases\n",
        "    w2 += learningRate * np.dot(dz2, a1.T)  # Update weights from hidden to output layer\n",
        "    b2 += learningRate * np.sum(dz2, axis=1, keepdims=True)  # Update bias for output layer\n",
        "\n",
        "    w1 += learningRate * np.dot(dz1, X.T)  # Update weights from input to hidden layer\n",
        "    b1 += learningRate * np.sum(dz1, axis=1, keepdims=True)  # Update bias for hidden layer\n",
        "    if (epoch+1)%10000 == 0:\n",
        "        print(\"Epoch: %d, Average error: %0.05f\"%(epoch, np.average(abs(error))))\n",
        "        error_list.append(np.average(abs(error)))\n",
        "\n",
        "\n",
        "# Testing the trained network\n",
        "z1 = np.dot(w1, X) + b1  # Weighted sum for hidden layer\n",
        "a1 = 1 / (1 + np.exp(-z1))  # Sigmoid activation for hidden layer\n",
        "\n",
        "z2 = np.dot(w2, a1) + b2  # Weighted sum for output layer\n",
        "a2 = 1 / (1 + np.exp(-z2))  # Sigmoid activation for output layer\n",
        "\n",
        "# Print results\n",
        "print('\\nFinal output after training:', a2)\n",
        "print('Ground truth', d)\n",
        "print('Error after training:', error)\n",
        "print('Average error: %0.05f'%np.average(abs(error)))\n",
        "\n",
        "# Plot error\n",
        "plt.plot(error_list)\n",
        "plt.title('Error')\n",
        "plt.xlabel('Epochs')\n",
        "plt.ylabel('Error')\n",
        "plt.show()"
      ],
      "metadata": {
        "colab": {
          "base_uri": "https://localhost:8080/",
          "height": 871
        },
        "id": "BTEokTuRVm7A",
        "outputId": "6683b9dd-5937-4d15-ec9e-fdb53476773a"
      },
      "execution_count": 25,
      "outputs": [
        {
          "output_type": "stream",
          "name": "stdout",
          "text": [
            "Epoch: 9999, Average error: 0.25546\n",
            "Epoch: 19999, Average error: 0.02426\n",
            "Epoch: 29999, Average error: 0.01404\n",
            "Epoch: 39999, Average error: 0.01088\n",
            "Epoch: 49999, Average error: 0.00921\n",
            "Epoch: 59999, Average error: 0.00813\n",
            "Epoch: 69999, Average error: 0.00736\n",
            "Epoch: 79999, Average error: 0.00678\n",
            "Epoch: 89999, Average error: 0.00632\n",
            "Epoch: 99999, Average error: 0.00594\n",
            "Epoch: 109999, Average error: 0.00563\n",
            "Epoch: 119999, Average error: 0.00536\n",
            "Epoch: 129999, Average error: 0.00512\n",
            "Epoch: 139999, Average error: 0.00492\n",
            "Epoch: 149999, Average error: 0.00474\n",
            "Epoch: 159999, Average error: 0.00458\n",
            "Epoch: 169999, Average error: 0.00443\n",
            "Epoch: 179999, Average error: 0.00430\n",
            "\n",
            "Final output after training: [[0.00550551 0.0016935  0.00169349 0.99171002]]\n",
            "Ground truth [0 0 0 1]\n",
            "Error after training: [[-0.00550553 -0.00169351 -0.00169349  0.00829   ]]\n",
            "Average error: 0.00430\n"
          ]
        },
        {
          "output_type": "display_data",
          "data": {
            "text/plain": [
              "<Figure size 640x480 with 1 Axes>"
            ],
            "image/png": "[encoded data removed]"
          },
          "metadata": {}
        }
      ]
    },
    {
      "cell_type": "markdown",
      "source": [
        "### backpropagation for XOR problem"
      ],
      "metadata": {
        "id": "BLT6ycm6Wijc"
      }
    },
    {
      "cell_type": "code",
      "source": [
        "learningRate = 0.01         # Learning rate\n",
        "epochs = 1000000   # Number of training epochs\n",
        "\n",
        "\n",
        "# Defining inputs and expected output (XOR truth table)\n",
        "X = np.array([[0, 0], [0, 1], [1, 0], [1, 1]]).T  # 2x4 matrix, each column is a training example\n",
        "d = np.array([0, 1, 1, 0])  # Expected output for XOR\n",
        "\n",
        "\n",
        "# Training the network using backpropagation\n",
        "error_list = []\n",
        "for epoch in range(epochs):\n",
        "    # Forward pass\n",
        "    z1 = np.dot(w1, X) + b1  # Weighted sum for hidden layer\n",
        "    a1 = 1 / (1 + np.exp(-z1))  # Sigmoid activation for hidden layer\n",
        "\n",
        "    z2 = np.dot(w2, a1) + b2  # Weighted sum for output layer\n",
        "    a2 = 1 / (1 + np.exp(-z2))  # Sigmoid activation for output layer\n",
        "\n",
        "    # Error calculation and backpropagation\n",
        "    error = d - a2  # Difference between expected and actual output\n",
        "    da2 = error * (a2 * (1 - a2))  # Derivative for output layer\n",
        "    dz2 = da2  # Gradient for output layer\n",
        "\n",
        "    # Propagate error to hidden layer\n",
        "    da1 = np.dot(w2.T, dz2)  # Gradient for hidden layer\n",
        "    dz1 = da1 * (a1 * (1 - a1))  # Derivative for hidden layer\n",
        "\n",
        "    # Update weights and biases\n",
        "    w2 += learningRate * np.dot(dz2, a1.T)  # Update weights from hidden to output layer\n",
        "    b2 += learningRate * np.sum(dz2, axis=1, keepdims=True)  # Update bias for output layer\n",
        "\n",
        "    w1 += learningRate * np.dot(dz1, X.T)  # Update weights from input to hidden layer\n",
        "    b1 += learningRate * np.sum(dz1, axis=1, keepdims=True)  # Update bias for hidden layer\n",
        "    if (epoch+1)%10000 == 0:\n",
        "        print(\"Epoch: %d, Average error: %0.05f\"%(epoch, np.average(abs(error))))\n",
        "        error_list.append(np.average(abs(error)))\n",
        "\n",
        "\n",
        "# Testing the trained network\n",
        "z1 = np.dot(w1, X) + b1  # Weighted sum for hidden layer\n",
        "a1 = 1 / (1 + np.exp(-z1))  # Sigmoid activation for hidden layer\n",
        "\n",
        "z2 = np.dot(w2, a1) + b2  # Weighted sum for output layer\n",
        "a2 = 1 / (1 + np.exp(-z2))  # Sigmoid activation for output layer\n",
        "\n",
        "# Print results\n",
        "print('\\nFinal output after training:', a2)\n",
        "print('Ground truth', d)\n",
        "print('Error after training:', error)\n",
        "print('Average error: %0.05f'%np.average(abs(error)))\n",
        "\n",
        "\n",
        "# Plot error\n",
        "plt.plot(error_list)\n",
        "plt.title('Error')\n",
        "plt.xlabel('Epochs')\n",
        "plt.ylabel('Error')\n",
        "plt.show()"
      ],
      "metadata": {
        "colab": {
          "base_uri": "https://localhost:8080/",
          "height": 1000
        },
        "id": "NKA91AHRWnms",
        "outputId": "7bd0184d-27a7-458c-ff49-5f9a1cc8b16e"
      },
      "execution_count": 26,
      "outputs": [
        {
          "output_type": "stream",
          "name": "stdout",
          "text": [
            "Epoch: 9999, Average error: 0.26535\n",
            "Epoch: 19999, Average error: 0.26627\n",
            "Epoch: 29999, Average error: 0.29973\n",
            "Epoch: 39999, Average error: 0.05769\n",
            "Epoch: 49999, Average error: 0.03865\n",
            "Epoch: 59999, Average error: 0.03226\n",
            "Epoch: 69999, Average error: 0.02873\n",
            "Epoch: 79999, Average error: 0.02636\n",
            "Epoch: 89999, Average error: 0.02459\n",
            "Epoch: 99999, Average error: 0.02320\n",
            "Epoch: 109999, Average error: 0.02204\n",
            "Epoch: 119999, Average error: 0.02106\n",
            "Epoch: 129999, Average error: 0.02022\n",
            "Epoch: 139999, Average error: 0.01947\n",
            "Epoch: 149999, Average error: 0.01880\n",
            "Epoch: 159999, Average error: 0.01820\n",
            "Epoch: 169999, Average error: 0.01766\n",
            "Epoch: 179999, Average error: 0.01716\n",
            "Epoch: 189999, Average error: 0.01671\n",
            "Epoch: 199999, Average error: 0.01628\n",
            "Epoch: 209999, Average error: 0.01589\n",
            "Epoch: 219999, Average error: 0.01553\n",
            "Epoch: 229999, Average error: 0.01519\n",
            "Epoch: 239999, Average error: 0.01487\n",
            "Epoch: 249999, Average error: 0.01457\n",
            "Epoch: 259999, Average error: 0.01428\n",
            "Epoch: 269999, Average error: 0.01402\n",
            "Epoch: 279999, Average error: 0.01376\n",
            "Epoch: 289999, Average error: 0.01352\n",
            "Epoch: 299999, Average error: 0.01329\n",
            "Epoch: 309999, Average error: 0.01308\n",
            "Epoch: 319999, Average error: 0.01287\n",
            "Epoch: 329999, Average error: 0.01267\n",
            "Epoch: 339999, Average error: 0.01248\n",
            "Epoch: 349999, Average error: 0.01230\n",
            "Epoch: 359999, Average error: 0.01213\n",
            "Epoch: 369999, Average error: 0.01196\n",
            "Epoch: 379999, Average error: 0.01180\n",
            "Epoch: 389999, Average error: 0.01165\n",
            "Epoch: 399999, Average error: 0.01150\n",
            "Epoch: 409999, Average error: 0.01136\n",
            "Epoch: 419999, Average error: 0.01122\n",
            "Epoch: 429999, Average error: 0.01109\n",
            "Epoch: 439999, Average error: 0.01096\n",
            "Epoch: 449999, Average error: 0.01084\n",
            "Epoch: 459999, Average error: 0.01072\n",
            "Epoch: 469999, Average error: 0.01060\n",
            "Epoch: 479999, Average error: 0.01049\n",
            "Epoch: 489999, Average error: 0.01038\n",
            "Epoch: 499999, Average error: 0.01027\n",
            "Epoch: 509999, Average error: 0.01017\n",
            "Epoch: 519999, Average error: 0.01007\n",
            "Epoch: 529999, Average error: 0.00998\n",
            "Epoch: 539999, Average error: 0.00988\n",
            "Epoch: 549999, Average error: 0.00979\n",
            "Epoch: 559999, Average error: 0.00970\n",
            "Epoch: 569999, Average error: 0.00962\n",
            "Epoch: 579999, Average error: 0.00953\n",
            "Epoch: 589999, Average error: 0.00945\n",
            "Epoch: 599999, Average error: 0.00937\n",
            "Epoch: 609999, Average error: 0.00929\n",
            "Epoch: 619999, Average error: 0.00921\n",
            "Epoch: 629999, Average error: 0.00914\n",
            "Epoch: 639999, Average error: 0.00907\n",
            "Epoch: 649999, Average error: 0.00900\n",
            "Epoch: 659999, Average error: 0.00893\n",
            "Epoch: 669999, Average error: 0.00886\n",
            "Epoch: 679999, Average error: 0.00879\n",
            "Epoch: 689999, Average error: 0.00873\n",
            "Epoch: 699999, Average error: 0.00866\n",
            "Epoch: 709999, Average error: 0.00860\n",
            "Epoch: 719999, Average error: 0.00854\n",
            "Epoch: 729999, Average error: 0.00848\n",
            "Epoch: 739999, Average error: 0.00842\n",
            "Epoch: 749999, Average error: 0.00837\n",
            "Epoch: 759999, Average error: 0.00831\n",
            "Epoch: 769999, Average error: 0.00825\n",
            "Epoch: 779999, Average error: 0.00820\n",
            "Epoch: 789999, Average error: 0.00815\n",
            "Epoch: 799999, Average error: 0.00810\n",
            "Epoch: 809999, Average error: 0.00805\n",
            "Epoch: 819999, Average error: 0.00800\n",
            "Epoch: 829999, Average error: 0.00795\n",
            "Epoch: 839999, Average error: 0.00790\n",
            "Epoch: 849999, Average error: 0.00785\n",
            "Epoch: 859999, Average error: 0.00780\n",
            "Epoch: 869999, Average error: 0.00776\n",
            "Epoch: 879999, Average error: 0.00771\n",
            "Epoch: 889999, Average error: 0.00767\n",
            "Epoch: 899999, Average error: 0.00763\n",
            "Epoch: 909999, Average error: 0.00758\n",
            "Epoch: 919999, Average error: 0.00754\n",
            "Epoch: 929999, Average error: 0.00750\n",
            "Epoch: 939999, Average error: 0.00746\n",
            "Epoch: 949999, Average error: 0.00742\n",
            "Epoch: 959999, Average error: 0.00738\n",
            "Epoch: 969999, Average error: 0.00734\n",
            "Epoch: 979999, Average error: 0.00730\n",
            "Epoch: 989999, Average error: 0.00727\n",
            "Epoch: 999999, Average error: 0.00723\n",
            "\n",
            "Final output after training: [[1.55546801e-04 9.92237435e-01 9.92237426e-01 1.32407377e-02]]\n",
            "Ground truth [0 1 1 0]\n",
            "Error after training: [[-0.00015555  0.00776257  0.00776258 -0.01324074]]\n",
            "Average error: 0.00723\n"
          ]
        },
        {
          "output_type": "display_data",
          "data": {
            "text/plain": [
              "<Figure size 640x480 with 1 Axes>"
            ],
            "image/png": "[encoded data removed]"
          },
          "metadata": {}
        }
      ]
    }
  ]
}