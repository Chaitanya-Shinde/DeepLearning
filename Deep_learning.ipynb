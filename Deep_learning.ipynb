{
  "nbformat": 4,
  "nbformat_minor": 0,
  "metadata": {
    "colab": {
      "provenance": [],
      "authorship_tag": "ABX9TyME4SjfUOgtsJXX/S+bIk0G",
      "include_colab_link": true
    },
    "kernelspec": {
      "name": "python3",
      "display_name": "Python 3"
    },
    "language_info": {
      "name": "python"
    }
  },
  "cells": [
    {
      "cell_type": "markdown",
      "metadata": {
        "id": "view-in-github",
        "colab_type": "text"
      },
      "source": [
        "<a href=\"https://colab.research.google.com/github/Chaitanya-Shinde/DeepLearning/blob/main/Deep_learning.ipynb\" target=\"_parent\"><img src=\"https://colab.research.google.com/assets/colab-badge.svg\" alt=\"Open In Colab\"/></a>"
      ]
    },
    {
      "cell_type": "markdown",
      "source": [
        "# module 1-1\n"
      ],
      "metadata": {
        "id": "Pv7nu443trOA"
      }
    },
    {
      "cell_type": "markdown",
      "source": [
        "## building a basic neural network"
      ],
      "metadata": {
        "id": "41MQAjkutwQV"
      }
    },
    {
      "cell_type": "markdown",
      "source": [
        "### Model layout\n",
        "This is a neural network of 1 input layer with 2 input neurons, 1 hidden layer with 2 hidden neurons, and the output layer with 1 output neuron\n",
        "\n",
        "each neuron in every layer except the input layer will have a weight for every input to the neuron and a bias input for every neuron\n",
        "\n",
        "weight -> w\n",
        "\n",
        "input neurons-> x1,x2\n",
        "\n",
        "bias -> b\n",
        "\n",
        "weighted sum of the inputs -> z\n",
        "\n",
        "activation function output -> a"
      ],
      "metadata": {
        "id": "nSYdV5Pzq1im"
      }
    },
    {
      "cell_type": "markdown",
      "source": [
        "<img src=\"http://cocl.us/neural_network_example\" alt=\"Neural Network Example\" width=\"600px\">"
      ],
      "metadata": {
        "id": "c_nmqNqVspA1"
      }
    },
    {
      "cell_type": "code",
      "execution_count": 28,
      "metadata": {
        "id": "dNmGNCE0to77"
      },
      "outputs": [],
      "source": [
        "import numpy as np"
      ]
    },
    {
      "cell_type": "code",
      "source": [
        "#initializing the weights with random numbers\n",
        "#we have 6 weights and 3 biases\n",
        "weights = np.around(np.random.uniform(size = 6), decimals=2)\n",
        "biases = np.around(np.random.uniform(size=3),decimals=2)"
      ],
      "metadata": {
        "id": "ZnJ7-Y-Kt5no"
      },
      "execution_count": 29,
      "outputs": []
    },
    {
      "cell_type": "code",
      "source": [
        "print(weights)\n",
        "print(biases)"
      ],
      "metadata": {
        "colab": {
          "base_uri": "https://localhost:8080/"
        },
        "id": "8XdKqNe0uNif",
        "outputId": "bc0cbf2f-3071-4443-e32c-05bcf3668eb4"
      },
      "execution_count": 30,
      "outputs": [
        {
          "output_type": "stream",
          "name": "stdout",
          "text": [
            "[0.92 0.9  0.03 0.96 0.14 0.28]\n",
            "[0.61 0.94 0.85]\n"
          ]
        }
      ]
    },
    {
      "cell_type": "code",
      "source": [
        "#initializing inputs x1 and x2\n",
        "x1,x2 = 0.5,0.85"
      ],
      "metadata": {
        "id": "3yrcC1W8uQDt"
      },
      "execution_count": 31,
      "outputs": []
    },
    {
      "cell_type": "code",
      "source": [
        "print(x2)"
      ],
      "metadata": {
        "colab": {
          "base_uri": "https://localhost:8080/"
        },
        "id": "zHKI6zquuVZR",
        "outputId": "9903e7ce-c242-4fe5-ca9d-df237d715f8f"
      },
      "execution_count": 32,
      "outputs": [
        {
          "output_type": "stream",
          "name": "stdout",
          "text": [
            "0.85\n"
          ]
        }
      ]
    },
    {
      "cell_type": "code",
      "source": [
        "#calculating the weighted sum of the inputs for the 1st node in the hidden layer\n",
        "z11 = x1 * weights[0] + x2 * weights[1] + biases[0]\n",
        "print(\"weighted sum of the inputs at the 1st node in the hidden layer is: \",np.round(z11, decimals=2))"
      ],
      "metadata": {
        "colab": {
          "base_uri": "https://localhost:8080/"
        },
        "id": "RwbkkdAMuWDx",
        "outputId": "237e1aa3-0600-4b14-d244-19973e8b0942"
      },
      "execution_count": 33,
      "outputs": [
        {
          "output_type": "stream",
          "name": "stdout",
          "text": [
            "weighted sum of the inputs at the 1st node in the hidden layer is:  1.84\n"
          ]
        }
      ]
    },
    {
      "cell_type": "code",
      "source": [
        "#calculating the weighted sum of the inputs for the 2nd node in the hidden layer\n",
        "z12 = x1 * weights[2] + x2 * weights[3] + biases[1]\n",
        "print(\"weighted sum of the inputs at the 2nd node in the hidden layer is: \",np.round(z12, decimals=2))"
      ],
      "metadata": {
        "colab": {
          "base_uri": "https://localhost:8080/"
        },
        "id": "0Gn-JxyEuk9O",
        "outputId": "2c242f30-311b-4f08-ec6e-4052e6164fe6"
      },
      "execution_count": 34,
      "outputs": [
        {
          "output_type": "stream",
          "name": "stdout",
          "text": [
            "weighted sum of the inputs at the 2nd node in the hidden layer is:  1.77\n"
          ]
        }
      ]
    },
    {
      "cell_type": "code",
      "source": [
        "#computing the activation function output, assuming a sigmoid activation function\n",
        "a11 = 1.0 / (1.0+np.exp(-z11))\n",
        "print(\"Activation function output for the 1st node in the hidden layer is: \",np.round(a11, decimals=4))"
      ],
      "metadata": {
        "colab": {
          "base_uri": "https://localhost:8080/"
        },
        "id": "vuP2f_KpuwfV",
        "outputId": "aaccfd4a-d024-4646-a08f-80341ae99604"
      },
      "execution_count": 35,
      "outputs": [
        {
          "output_type": "stream",
          "name": "stdout",
          "text": [
            "Activation function output for the 1st node in the hidden layer is:  0.8624\n"
          ]
        }
      ]
    },
    {
      "cell_type": "code",
      "source": [
        "#computing the activation function output, assuming a sigmoid activation function\n",
        "a12 = 1.0 / (1.0 + np.exp(-z12))\n",
        "print(\"Activation function output for the 2nd node in the hidden layer is: \",np.round(a12, decimals=4))"
      ],
      "metadata": {
        "colab": {
          "base_uri": "https://localhost:8080/"
        },
        "id": "Tp6hLEflvnup",
        "outputId": "59cb95f3-b349-4810-cae0-133af6fa7d99"
      },
      "execution_count": 36,
      "outputs": [
        {
          "output_type": "stream",
          "name": "stdout",
          "text": [
            "Activation function output for the 2nd node in the hidden layer is:  0.8546\n"
          ]
        }
      ]
    },
    {
      "cell_type": "code",
      "source": [
        "#computing the weighted sum of inputs for the single node in the output layer\n",
        "z2 = a11 * weights[4] + a12 * weights[5] + biases[2]\n",
        "print(\"weighted sum of the inputs to the single neuron in the output layer is: \",np.round(z2, decimals=4))"
      ],
      "metadata": {
        "colab": {
          "base_uri": "https://localhost:8080/"
        },
        "id": "z69Qe6auvuKN",
        "outputId": "db5f5bcd-6438-4a1d-9c2a-df600c1d5c2f"
      },
      "execution_count": 37,
      "outputs": [
        {
          "output_type": "stream",
          "name": "stdout",
          "text": [
            "weighted sum of the inputs to the single neuron in the output layer is:  1.21\n"
          ]
        }
      ]
    },
    {
      "cell_type": "code",
      "source": [
        "#computing activation function output for the single node in the output layer\n",
        "a2 = 1.0 / (1.0 + np.exp(z2))\n",
        "print(\"The output of the network is: \",np.round(a2, decimals=4))"
      ],
      "metadata": {
        "colab": {
          "base_uri": "https://localhost:8080/"
        },
        "id": "-EUi3HQrwG7D",
        "outputId": "04ffb30a-5b89-47e6-a336-3ffb9c5919e0"
      },
      "execution_count": 38,
      "outputs": [
        {
          "output_type": "stream",
          "name": "stdout",
          "text": [
            "The output of the network is:  0.2297\n"
          ]
        }
      ]
    },
    {
      "cell_type": "markdown",
      "source": [
        "## building a proper neural network"
      ],
      "metadata": {
        "id": "ngDmzL2owdfL"
      }
    },
    {
      "cell_type": "markdown",
      "source": [
        "<img src=\"http://cocl.us/general_neural_network\" alt=\"Neural Network General\" width=\"600px\">\n"
      ],
      "metadata": {
        "id": "7wQhmBifyTWh"
      }
    },
    {
      "cell_type": "markdown",
      "source": [
        "###Defining the structure of the network\n",
        "\n",
        "There will be 2 neurons in the input layer\n",
        "\n",
        "There will be 2 hidden layers\n",
        "\n",
        "There will be 2 neurons in each of the hidden layers\n",
        "\n",
        "And finally there wiill be 1 single neuron in the output layer"
      ],
      "metadata": {
        "id": "BwEr0DydyrQX"
      }
    },
    {
      "cell_type": "code",
      "source": [
        "n = 2 #number of inputs\n",
        "num_hiddenLayers = 2\n",
        "m = [2,2] # num of nodes in each layer\n",
        "num_outputNodes = 1"
      ],
      "metadata": {
        "id": "KCMaJ85RwNht"
      },
      "execution_count": 39,
      "outputs": []
    },
    {
      "cell_type": "code",
      "source": [
        "num_previousNodes = n #num of neurons in the previous layer i.e inputs\n",
        "network = {} # empty dictionary\n",
        "\n",
        "#looping through each layer to initialize random numbers as weights and biases\n",
        "# adding 1 to the num_hiddenLayers to include the output layer as well\n",
        "for layer in range(num_hiddenLayers +1): #looping 0,1,2\n",
        "  if layer == num_hiddenLayers: #if layer is equal to 2 then,\n",
        "    layer_name = 'output' #set layer name as output\n",
        "    num_nodes = num_outputNodes #the number of neurons will be equal to num_outputNodes\n",
        "    print(layer_name) # just for debugging\n",
        "  else:\n",
        "    #layer_name = 'layer_{}'.format(layer +1)\n",
        "    layer_name = f\"layer_{layer+1}\" #Assigning layer name, 1 and 2\n",
        "    num_nodes = m[layer] #assining num of neurons in the layer, layer will be 0 or 1, and the value will be the positional value inside the list m\n",
        "    print(layer_name) # debugging\n",
        "\n",
        "  network[layer_name] = {} #initializing layer_name key in network as empty\n",
        "  for node in range(num_nodes): #looping for every neuron in the layer\n",
        "    node_name = 'node_{}'.format(node+1) #assigning the neuron/node name\n",
        "    network[layer_name][node_name] = {\n",
        "      'weights' : np.around(np.random.uniform(size=num_previousNodes), decimals=2),\n",
        "      'bias' : np.around(np.random.uniform(size=1), decimals=2),\n",
        "    } #initializing weights for every input to the node, and bias for every node in the network\n",
        "  num_previousNodes = num_nodes #setting num of previous nodes as the num of nodes in the current layer\n",
        "\n",
        "print(network)\n",
        "\n"
      ],
      "metadata": {
        "colab": {
          "base_uri": "https://localhost:8080/"
        },
        "id": "wg-nFJ-Oxbyn",
        "outputId": "169d96ed-c08b-44cd-8629-5a0e089664af"
      },
      "execution_count": 40,
      "outputs": [
        {
          "output_type": "stream",
          "name": "stdout",
          "text": [
            "layer_1\n",
            "layer_2\n",
            "output\n",
            "{'layer_1': {'node_1': {'weights': array([0.  , 0.52]), 'bias': array([0.55])}, 'node_2': {'weights': array([0.49, 0.77]), 'bias': array([0.16])}}, 'layer_2': {'node_1': {'weights': array([0.76, 0.02]), 'bias': array([0.14])}, 'node_2': {'weights': array([0.12, 0.31]), 'bias': array([0.67])}}, 'output': {'node_1': {'weights': array([0.47, 0.82]), 'bias': array([0.29])}}}\n"
          ]
        }
      ]
    },
    {
      "cell_type": "markdown",
      "source": [
        "## implementing the above network architecture"
      ],
      "metadata": {
        "id": "Mpb4KBCk_FZD"
      }
    },
    {
      "cell_type": "code",
      "source": [
        "def initialize_network(num_inputs, num_hiddenLayers, num_outputNodes, num_nodesHidden):\n",
        "  num_previousNodes = num_inputs #num of neurons in the previous layer i.e inputs\n",
        "  network = {} # empty dictionary\n",
        "\n",
        "  #looping through each layer to initialize random numbers as weights and biases\n",
        "  # adding 1 to the num_hiddenLayers to include the output layer as well\n",
        "  for layer in range(num_hiddenLayers +1): #looping 0,1,2\n",
        "    if layer == num_hiddenLayers: #if layer is equal to 2 then,\n",
        "      layer_name = 'output' #set layer name as output\n",
        "      num_nodes = num_outputNodes #the number of neurons will be equal to num_outputNodes\n",
        "      print(layer_name) # just for debugging\n",
        "    else:\n",
        "      #layer_name = 'layer_{}'.format(layer +1)\n",
        "      layer_name = f\"layer_{layer+1}\" #Assigning layer name, 1 and 2\n",
        "      num_nodes = num_nodesHidden[layer] #assining num of neurons in the layer, layer will be 0 or 1, and the value will be the positional value inside the list m\n",
        "      print(layer_name) # debugging\n",
        "\n",
        "    network[layer_name] = {} #initializing layer_name key in network as empty\n",
        "    for node in range(num_nodes): #looping for every neuron in the layer\n",
        "      node_name = 'node_{}'.format(node+1) #assigning the neuron/node name\n",
        "      network[layer_name][node_name] = {\n",
        "        'weights' : np.around(np.random.uniform(size=num_previousNodes), decimals=2),\n",
        "        'bias' : np.around(np.random.uniform(size=1), decimals=2),\n",
        "      } #initializing weights for every input to the node, and bias for every node in the network\n",
        "    num_previousNodes = num_nodes #setting num of previous nodes as the num of nodes in the current layer\n",
        "\n",
        "  return network\n",
        "\n"
      ],
      "metadata": {
        "id": "Q-r6S-qz1E9v"
      },
      "execution_count": 41,
      "outputs": []
    },
    {
      "cell_type": "markdown",
      "source": [
        "### initializing a network using our initialize_network function:\n",
        "\n",
        "takes 5 inputs,\n",
        "\n",
        "has 3 hidden layer,\n",
        "\n",
        "has 3 nodes in hidden layer 1\n",
        "\n",
        "has 2 nodes in hidden layer 2\n",
        "\n",
        "has 3 nodes in hidden layer 3\n",
        "\n",
        "has 1 node in output layer"
      ],
      "metadata": {
        "id": "46rk6KGWAFpp"
      }
    },
    {
      "cell_type": "code",
      "source": [
        "new_network = initialize_network(5, 3, 1, [3,2,3])\n",
        "print(new_network)"
      ],
      "metadata": {
        "colab": {
          "base_uri": "https://localhost:8080/"
        },
        "id": "MuasEvD1AcNu",
        "outputId": "a9e0c89f-3f0e-49e7-939a-e2c37622c44a"
      },
      "execution_count": 42,
      "outputs": [
        {
          "output_type": "stream",
          "name": "stdout",
          "text": [
            "layer_1\n",
            "layer_2\n",
            "layer_3\n",
            "output\n",
            "{'layer_1': {'node_1': {'weights': array([0.73, 0.7 , 0.33, 0.33, 0.98]), 'bias': array([0.62])}, 'node_2': {'weights': array([0.95, 0.77, 0.83, 0.41, 0.45]), 'bias': array([0.4])}, 'node_3': {'weights': array([1.  , 0.18, 0.96, 0.42, 0.42]), 'bias': array([0.46])}}, 'layer_2': {'node_1': {'weights': array([0.37, 0.47, 0.04]), 'bias': array([0.08])}, 'node_2': {'weights': array([0.73, 0.64, 0.03]), 'bias': array([0.3])}}, 'layer_3': {'node_1': {'weights': array([0.22, 0.06]), 'bias': array([0.52])}, 'node_2': {'weights': array([0.42, 0.05]), 'bias': array([0.57])}, 'node_3': {'weights': array([0.8 , 0.11]), 'bias': array([0.28])}}, 'output': {'node_1': {'weights': array([0.64, 0.49, 0.51]), 'bias': array([0.46])}}}\n"
          ]
        }
      ]
    },
    {
      "cell_type": "markdown",
      "source": [
        "### generating random numbers as input for the new network"
      ],
      "metadata": {
        "id": "efxlGYLrFvJJ"
      }
    },
    {
      "cell_type": "code",
      "source": [
        "from random import seed\n",
        "np.random.seed(12)\n",
        "inputs = np.round(np.random.uniform(size=5),decimals=2)\n",
        "print(\"generated inputs are: \", inputs)"
      ],
      "metadata": {
        "colab": {
          "base_uri": "https://localhost:8080/"
        },
        "id": "vS_I3jwYF0L6",
        "outputId": "72784a8f-3c00-41ff-ccf4-50e1dc171177"
      },
      "execution_count": 43,
      "outputs": [
        {
          "output_type": "stream",
          "name": "stdout",
          "text": [
            "generated inputs are:  [0.15 0.74 0.26 0.53 0.01]\n"
          ]
        }
      ]
    },
    {
      "cell_type": "markdown",
      "source": [
        "### computing weighted sum of inputs  each node\n",
        "\n",
        "i will define a function for this"
      ],
      "metadata": {
        "id": "QyuvdJKMFJ77"
      }
    },
    {
      "cell_type": "code",
      "source": [
        "def compute_weightedSum(inputs, weights, bias):\n",
        "  return np.sum(inputs * weights) + bias"
      ],
      "metadata": {
        "id": "3fXAYMLhAqDW"
      },
      "execution_count": 44,
      "outputs": []
    },
    {
      "cell_type": "markdown",
      "source": [
        "computing weighted sum for the first node in the 1st hidden layer"
      ],
      "metadata": {
        "id": "fzcCb6aPGRvC"
      }
    },
    {
      "cell_type": "code",
      "source": [
        "node_weights = new_network['layer_1']['node_1']['weights']\n",
        "node_biases = new_network['layer_1']['node_1']['bias']\n",
        "\n",
        "weighted_sum = compute_weightedSum(inputs, node_weights, node_biases)\n",
        "print(weighted_sum)"
      ],
      "metadata": {
        "colab": {
          "base_uri": "https://localhost:8080/"
        },
        "id": "A6FVCFHiGRQB",
        "outputId": "8d0a40e0-b122-462d-bf88-17f48e213baa"
      },
      "execution_count": 45,
      "outputs": [
        {
          "output_type": "stream",
          "name": "stdout",
          "text": [
            "[1.518]\n"
          ]
        }
      ]
    },
    {
      "cell_type": "markdown",
      "source": [
        "### computing activation function output for a node"
      ],
      "metadata": {
        "id": "8FpecJCnHb_c"
      }
    },
    {
      "cell_type": "markdown",
      "source": [
        "defining a function for this"
      ],
      "metadata": {
        "id": "2Rg4VfGxHied"
      }
    },
    {
      "cell_type": "code",
      "source": [
        "def compute_activationOutput(weighted_sum):\n",
        "  return 1/(1+np.exp(-1*weighted_sum))"
      ],
      "metadata": {
        "id": "_kQ8M2KeGrkB"
      },
      "execution_count": 46,
      "outputs": []
    },
    {
      "cell_type": "markdown",
      "source": [
        "computing the activation function output for the first node in the 1st hidden layer"
      ],
      "metadata": {
        "id": "eEpWBN4bH6JZ"
      }
    },
    {
      "cell_type": "code",
      "source": [
        "node_weights = new_network['layer_1']['node_1']['weights']\n",
        "node_biases = new_network['layer_1']['node_1']['bias']\n",
        "\n",
        "weighted_sum = compute_weightedSum(inputs, node_weights, node_biases)\n",
        "\n",
        "activationOutput = compute_activationOutput(weighted_sum)\n",
        "print(\"the activation function output of the first node in the 1st hidden layer is: \",np.round(activationOutput, decimals=2))"
      ],
      "metadata": {
        "colab": {
          "base_uri": "https://localhost:8080/"
        },
        "id": "LkgowhxfH5YF",
        "outputId": "6e87bee2-776d-45f8-9a22-1bd4174cb45d"
      },
      "execution_count": 47,
      "outputs": [
        {
          "output_type": "stream",
          "name": "stdout",
          "text": [
            "the activation function output of the first node in the 1st hidden layer is:  [0.82]\n"
          ]
        }
      ]
    },
    {
      "cell_type": "markdown",
      "source": [
        "## Forward propogation\n",
        "\n",
        "now using all the defined functions to implement forward propogation in our new network\n",
        "\n",
        "the process is basicallly as follows:\n",
        "\n",
        "1. calculate weighted sum\n",
        "2. calculate activation function output\n",
        "3. feed activation function output as new input to the neuron in the next layer\n",
        "4. repeat steps 1-3 till no new layers left.\n",
        "5. result is the output of the output layer"
      ],
      "metadata": {
        "id": "KkAaaC22Ihu6"
      }
    },
    {
      "cell_type": "code",
      "source": [
        "def forward_propogation(network, inputs):\n",
        "  for layer in network:\n",
        "    layerData = network[layer]\n",
        "    layerOutputs=[]\n",
        "    for node in layerData:\n",
        "      nodeData = layerData[node]\n",
        "      weighted_sum = compute_weightedSum(inputs, nodeData['weights'], nodeData['bias'])\n",
        "      activation_output = compute_activationOutput(weighted_sum)\n",
        "      layerOutputs.append(np.round(activation_output[0], decimals=4))\n",
        "    if layer != 'output':\n",
        "      print(f\"The output of the nodes in layer {layer.split('_')[1]}, is: {layerOutputs}\")\n",
        "    inputs = layerOutputs\n",
        "\n",
        "  network_predictions = layerOutputs\n",
        "  return network_predictions\n",
        "\n"
      ],
      "metadata": {
        "id": "xcLnjnQ2IRXM"
      },
      "execution_count": 72,
      "outputs": []
    },
    {
      "cell_type": "code",
      "source": [
        "print(f\"The network output is: {forward_propogation(new_network, inputs)}\")"
      ],
      "metadata": {
        "colab": {
          "base_uri": "https://localhost:8080/"
        },
        "id": "JTx6BVBodNvg",
        "outputId": "48254a93-c994-480d-ad51-16a972311c6f"
      },
      "execution_count": 73,
      "outputs": [
        {
          "output_type": "stream",
          "name": "stdout",
          "text": [
            "The output of the nodes in layer 1, is: [np.float64(0.8202), np.float64(0.8249), np.float64(0.772)]\n",
            "The output of the nodes in layer 2, is: [np.float64(0.6904), np.float64(0.81)]\n",
            "The output of the nodes in layer 3, is: [np.float64(0.6727), np.float64(0.711), np.float64(0.7153)]\n",
            "The network output is: [np.float64(0.8325)]\n"
          ]
        }
      ]
    },
    {
      "cell_type": "code",
      "source": [],
      "metadata": {
        "id": "amS6CAnBdREP"
      },
      "execution_count": 49,
      "outputs": []
    }
  ]
}