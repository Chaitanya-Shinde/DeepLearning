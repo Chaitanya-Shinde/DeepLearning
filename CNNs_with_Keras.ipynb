{
  "nbformat": 4,
  "nbformat_minor": 0,
  "metadata": {
    "colab": {
      "provenance": [],
      "gpuType": "T4",
      "authorship_tag": "ABX9TyOFaRmDaR+MSurVKJNrlXBj",
      "include_colab_link": true
    },
    "kernelspec": {
      "name": "python3",
      "display_name": "Python 3"
    },
    "language_info": {
      "name": "python"
    },
    "accelerator": "GPU"
  },
  "cells": [
    {
      "cell_type": "markdown",
      "metadata": {
        "id": "view-in-github",
        "colab_type": "text"
      },
      "source": [
        "<a href=\"https://colab.research.google.com/github/Chaitanya-Shinde/DeepLearning/blob/main/CNNs_with_Keras.ipynb\" target=\"_parent\"><img src=\"https://colab.research.google.com/assets/colab-badge.svg\" alt=\"Open In Colab\"/></a>"
      ]
    },
    {
      "cell_type": "markdown",
      "source": [
        "## Implementing Convolutional Neural networks with keras\n",
        "\n",
        "i will be using the MNIST dataset to train and test the model"
      ],
      "metadata": {
        "id": "O-pUZyIfuovU"
      }
    },
    {
      "cell_type": "code",
      "execution_count": 1,
      "metadata": {
        "id": "GfZaWlR-uQh8"
      },
      "outputs": [],
      "source": [
        "#importing libraries\n",
        "import numpy as np\n",
        "import pandas as pd\n",
        "import matplotlib.pyplot as plt\n",
        "\n",
        "from keras.models import Sequential\n",
        "from keras.layers import Dense\n",
        "from keras.layers import Input\n",
        "from keras.utils import to_categorical\n",
        "\n",
        "from keras.layers import Conv2D\n",
        "from keras.layers import MaxPooling2D\n",
        "from keras.layers import Flatten"
      ]
    },
    {
      "cell_type": "code",
      "source": [
        "#importing the dataset\n",
        "from keras.datasets import mnist\n",
        "\n",
        "#loading the dataset\n",
        "(X_train, y_train), (X_test, y_test) = mnist.load_data()"
      ],
      "metadata": {
        "id": "Iqa0ZUcOwQvS"
      },
      "execution_count": 2,
      "outputs": []
    },
    {
      "cell_type": "code",
      "source": [
        "X_train.shape"
      ],
      "metadata": {
        "colab": {
          "base_uri": "https://localhost:8080/"
        },
        "id": "H5dlf8X-whhj",
        "outputId": "3125899d-cbc2-41a0-e5ee-3147c439a0ba"
      },
      "execution_count": 3,
      "outputs": [
        {
          "output_type": "execute_result",
          "data": {
            "text/plain": [
              "(60000, 28, 28)"
            ]
          },
          "metadata": {},
          "execution_count": 3
        }
      ]
    },
    {
      "cell_type": "code",
      "source": [
        "y_train.shape"
      ],
      "metadata": {
        "colab": {
          "base_uri": "https://localhost:8080/"
        },
        "id": "r31c80CSwkcG",
        "outputId": "28377a33-8724-4de8-d8b3-5302eefd525a"
      },
      "execution_count": 4,
      "outputs": [
        {
          "output_type": "execute_result",
          "data": {
            "text/plain": [
              "(60000,)"
            ]
          },
          "metadata": {},
          "execution_count": 4
        }
      ]
    },
    {
      "cell_type": "markdown",
      "source": [
        "reshaping the images"
      ],
      "metadata": {
        "id": "-LGjfha6xA9S"
      }
    },
    {
      "cell_type": "code",
      "source": [
        "X_train = X_train.reshape(X_train.shape[0], 28,28,1).astype('float32')\n",
        "X_test = X_test.reshape(X_test.shape[0], 28,28,1).astype('float32')"
      ],
      "metadata": {
        "id": "muuY09G1w4Uy"
      },
      "execution_count": 5,
      "outputs": []
    },
    {
      "cell_type": "code",
      "source": [
        "X_train.shape"
      ],
      "metadata": {
        "colab": {
          "base_uri": "https://localhost:8080/"
        },
        "id": "izu7_DKablh5",
        "outputId": "05efdce3-c7a2-4193-9cc4-ead86fb17bcc"
      },
      "execution_count": 6,
      "outputs": [
        {
          "output_type": "execute_result",
          "data": {
            "text/plain": [
              "(60000, 28, 28, 1)"
            ]
          },
          "metadata": {},
          "execution_count": 6
        }
      ]
    },
    {
      "cell_type": "markdown",
      "source": [
        "normalizing the pixel values"
      ],
      "metadata": {
        "id": "6CGlC3yYcN4j"
      }
    },
    {
      "cell_type": "code",
      "source": [
        "#normalizing the pixel values\n",
        "X_train = X_train / 255\n",
        "X_test = X_test / 255"
      ],
      "metadata": {
        "id": "M94NtY4CbnbT"
      },
      "execution_count": 7,
      "outputs": []
    },
    {
      "cell_type": "markdown",
      "source": [
        "Converting the target variale into categories"
      ],
      "metadata": {
        "id": "D2dl9ntqcQtH"
      }
    },
    {
      "cell_type": "code",
      "source": [
        "y_train = to_categorical(y_train)\n",
        "y_test = to_categorical(y_test)"
      ],
      "metadata": {
        "id": "mt6h49ogcI-G"
      },
      "execution_count": 8,
      "outputs": []
    },
    {
      "cell_type": "code",
      "source": [
        "y_test.shape"
      ],
      "metadata": {
        "colab": {
          "base_uri": "https://localhost:8080/"
        },
        "id": "dNttsYW4cldy",
        "outputId": "6488b8ef-c6b9-4ca8-ce7d-f863eebe8946"
      },
      "execution_count": 9,
      "outputs": [
        {
          "output_type": "execute_result",
          "data": {
            "text/plain": [
              "(10000, 10)"
            ]
          },
          "metadata": {},
          "execution_count": 9
        }
      ]
    },
    {
      "cell_type": "code",
      "source": [
        "num_classes = y_test.shape[1]"
      ],
      "metadata": {
        "id": "92nParjOcdP0"
      },
      "execution_count": 10,
      "outputs": []
    },
    {
      "cell_type": "code",
      "source": [
        "X_train[0].shape"
      ],
      "metadata": {
        "colab": {
          "base_uri": "https://localhost:8080/"
        },
        "id": "Y7rxyqvWc_G4",
        "outputId": "d478c231-4a94-4aab-ffa5-7e3feb8eddd6"
      },
      "execution_count": 11,
      "outputs": [
        {
          "output_type": "execute_result",
          "data": {
            "text/plain": [
              "(28, 28, 1)"
            ]
          },
          "metadata": {},
          "execution_count": 11
        }
      ]
    },
    {
      "cell_type": "markdown",
      "source": [
        "## building the model"
      ],
      "metadata": {
        "id": "0Q4B1OGGcrqG"
      }
    },
    {
      "cell_type": "code",
      "source": [
        "def convolutionalModel():\n",
        "  model = Sequential()\n",
        "  model.add(Input(shape=(X_train[0].shape)))\n",
        "  model.add(Conv2D(16, (5,5), strides=(1,1), activation='relu'))\n",
        "  model.add(MaxPooling2D(pool_size=(2,2), strides=(2,2)))\n",
        "\n",
        "  model.add(Flatten())\n",
        "  model.add(Dense(100, activation='relu'))\n",
        "  model.add(Dense(num_classes, activation='softmax'))\n",
        "\n",
        "  model.compile(optimizer='adam', loss='categorical_crossentropy', metrics=['accuracy'])\n",
        "  return model"
      ],
      "metadata": {
        "id": "AioKRrNKcwSt"
      },
      "execution_count": 12,
      "outputs": []
    },
    {
      "cell_type": "markdown",
      "source": [
        "## Training the model"
      ],
      "metadata": {
        "id": "ihlKB88Ld1Nf"
      }
    },
    {
      "cell_type": "code",
      "source": [
        "model = convolutionalModel()\n",
        "model.fit(X_train, y_train,validation_data=(X_test, y_test), epochs = 10, batch_size = 200)\n"
      ],
      "metadata": {
        "colab": {
          "base_uri": "https://localhost:8080/"
        },
        "id": "KEML_a2Odzlu",
        "outputId": "e44cf0c1-1bae-441a-9ec0-2c3382c2d9d1"
      },
      "execution_count": 13,
      "outputs": [
        {
          "output_type": "stream",
          "name": "stdout",
          "text": [
            "Epoch 1/10\n",
            "\u001b[1m300/300\u001b[0m \u001b[32m━━━━━━━━━━━━━━━━━━━━\u001b[0m\u001b[37m\u001b[0m \u001b[1m5s\u001b[0m 6ms/step - accuracy: 0.8349 - loss: 0.6020 - val_accuracy: 0.9721 - val_loss: 0.0937\n",
            "Epoch 2/10\n",
            "\u001b[1m300/300\u001b[0m \u001b[32m━━━━━━━━━━━━━━━━━━━━\u001b[0m\u001b[37m\u001b[0m \u001b[1m1s\u001b[0m 4ms/step - accuracy: 0.9721 - loss: 0.0929 - val_accuracy: 0.9812 - val_loss: 0.0614\n",
            "Epoch 3/10\n",
            "\u001b[1m300/300\u001b[0m \u001b[32m━━━━━━━━━━━━━━━━━━━━\u001b[0m\u001b[37m\u001b[0m \u001b[1m1s\u001b[0m 4ms/step - accuracy: 0.9833 - loss: 0.0565 - val_accuracy: 0.9798 - val_loss: 0.0620\n",
            "Epoch 4/10\n",
            "\u001b[1m300/300\u001b[0m \u001b[32m━━━━━━━━━━━━━━━━━━━━\u001b[0m\u001b[37m\u001b[0m \u001b[1m1s\u001b[0m 4ms/step - accuracy: 0.9866 - loss: 0.0444 - val_accuracy: 0.9856 - val_loss: 0.0466\n",
            "Epoch 5/10\n",
            "\u001b[1m300/300\u001b[0m \u001b[32m━━━━━━━━━━━━━━━━━━━━\u001b[0m\u001b[37m\u001b[0m \u001b[1m1s\u001b[0m 4ms/step - accuracy: 0.9911 - loss: 0.0307 - val_accuracy: 0.9848 - val_loss: 0.0432\n",
            "Epoch 6/10\n",
            "\u001b[1m300/300\u001b[0m \u001b[32m━━━━━━━━━━━━━━━━━━━━\u001b[0m\u001b[37m\u001b[0m \u001b[1m1s\u001b[0m 4ms/step - accuracy: 0.9920 - loss: 0.0282 - val_accuracy: 0.9861 - val_loss: 0.0387\n",
            "Epoch 7/10\n",
            "\u001b[1m300/300\u001b[0m \u001b[32m━━━━━━━━━━━━━━━━━━━━\u001b[0m\u001b[37m\u001b[0m \u001b[1m1s\u001b[0m 4ms/step - accuracy: 0.9932 - loss: 0.0232 - val_accuracy: 0.9864 - val_loss: 0.0437\n",
            "Epoch 8/10\n",
            "\u001b[1m300/300\u001b[0m \u001b[32m━━━━━━━━━━━━━━━━━━━━\u001b[0m\u001b[37m\u001b[0m \u001b[1m2s\u001b[0m 5ms/step - accuracy: 0.9945 - loss: 0.0191 - val_accuracy: 0.9876 - val_loss: 0.0386\n",
            "Epoch 9/10\n",
            "\u001b[1m300/300\u001b[0m \u001b[32m━━━━━━━━━━━━━━━━━━━━\u001b[0m\u001b[37m\u001b[0m \u001b[1m2s\u001b[0m 4ms/step - accuracy: 0.9956 - loss: 0.0149 - val_accuracy: 0.9868 - val_loss: 0.0413\n",
            "Epoch 10/10\n",
            "\u001b[1m300/300\u001b[0m \u001b[32m━━━━━━━━━━━━━━━━━━━━\u001b[0m\u001b[37m\u001b[0m \u001b[1m1s\u001b[0m 4ms/step - accuracy: 0.9963 - loss: 0.0132 - val_accuracy: 0.9870 - val_loss: 0.0425\n"
          ]
        },
        {
          "output_type": "execute_result",
          "data": {
            "text/plain": [
              "<keras.src.callbacks.history.History at 0x79979f6cd390>"
            ]
          },
          "metadata": {},
          "execution_count": 13
        }
      ]
    },
    {
      "cell_type": "code",
      "source": [
        "scores  = model.evaluate(X_test, y_test)"
      ],
      "metadata": {
        "colab": {
          "base_uri": "https://localhost:8080/"
        },
        "id": "xvBzTxdReg8k",
        "outputId": "929066fd-382f-48a9-b65a-d97a75eadf8d"
      },
      "execution_count": 14,
      "outputs": [
        {
          "output_type": "stream",
          "name": "stdout",
          "text": [
            "\u001b[1m313/313\u001b[0m \u001b[32m━━━━━━━━━━━━━━━━━━━━\u001b[0m\u001b[37m\u001b[0m \u001b[1m2s\u001b[0m 4ms/step - accuracy: 0.9851 - loss: 0.0514\n"
          ]
        }
      ]
    },
    {
      "cell_type": "code",
      "source": [
        "scores"
      ],
      "metadata": {
        "colab": {
          "base_uri": "https://localhost:8080/"
        },
        "id": "Wfvrp2XnfuVN",
        "outputId": "92263e10-08db-4e4c-e578-20ab240df906"
      },
      "execution_count": 15,
      "outputs": [
        {
          "output_type": "execute_result",
          "data": {
            "text/plain": [
              "[0.042507924139499664, 0.9869999885559082]"
            ]
          },
          "metadata": {},
          "execution_count": 15
        }
      ]
    },
    {
      "cell_type": "code",
      "source": [
        "print(f'The accuracy of the model is: {scores[1]}\\nThe error is: {100 - scores[1]* 100}')"
      ],
      "metadata": {
        "colab": {
          "base_uri": "https://localhost:8080/"
        },
        "id": "P14NrUSifvTs",
        "outputId": "13f9346a-746f-4719-e9c6-83149b2c95f0"
      },
      "execution_count": 16,
      "outputs": [
        {
          "output_type": "stream",
          "name": "stdout",
          "text": [
            "The accuracy of the model is: 0.9869999885559082\n",
            "The error is: 1.3000011444091797\n"
          ]
        }
      ]
    },
    {
      "cell_type": "markdown",
      "source": [
        "## practice 1"
      ],
      "metadata": {
        "id": "1uQk0-dAgFq2"
      }
    },
    {
      "cell_type": "markdown",
      "source": [
        "convolutional model with 2 convolutional and pooling layers"
      ],
      "metadata": {
        "id": "KnRHylGfgVnj"
      }
    },
    {
      "cell_type": "code",
      "source": [
        "def convolutionalModel1():\n",
        "    # create model\n",
        "    model = Sequential()\n",
        "    model.add(Input(shape=(28, 28, 1)))\n",
        "    model.add(Conv2D(16, (5, 5), activation='relu'))\n",
        "    model.add(MaxPooling2D(pool_size=(2, 2), strides=(2, 2)))\n",
        "\n",
        "    model.add(Conv2D(8, (2, 2), activation='relu'))\n",
        "    model.add(MaxPooling2D(pool_size=(2, 2), strides=(2, 2)))\n",
        "\n",
        "    model.add(Flatten())\n",
        "    model.add(Dense(100, activation='relu'))\n",
        "    model.add(Dense(num_classes, activation='softmax'))\n",
        "\n",
        "    # Compile model\n",
        "    model.compile(optimizer='adam', loss='categorical_crossentropy',  metrics=['accuracy'])\n",
        "    return model"
      ],
      "metadata": {
        "id": "ojfBbzVHgBUp"
      },
      "execution_count": 17,
      "outputs": []
    },
    {
      "cell_type": "code",
      "source": [
        "model1 = convolutionalModel1()\n",
        "model1.fit(X_train, y_train, validation_data=(X_test,y_test), epochs=10, batch_size=200)"
      ],
      "metadata": {
        "colab": {
          "base_uri": "https://localhost:8080/"
        },
        "id": "i1QndmLJgsW8",
        "outputId": "bde4c8b5-8990-4682-de6a-cb56e00d19c1"
      },
      "execution_count": 18,
      "outputs": [
        {
          "output_type": "stream",
          "name": "stdout",
          "text": [
            "Epoch 1/10\n",
            "\u001b[1m300/300\u001b[0m \u001b[32m━━━━━━━━━━━━━━━━━━━━\u001b[0m\u001b[37m\u001b[0m \u001b[1m4s\u001b[0m 6ms/step - accuracy: 0.7084 - loss: 0.9784 - val_accuracy: 0.9543 - val_loss: 0.1566\n",
            "Epoch 2/10\n",
            "\u001b[1m300/300\u001b[0m \u001b[32m━━━━━━━━━━━━━━━━━━━━\u001b[0m\u001b[37m\u001b[0m \u001b[1m3s\u001b[0m 4ms/step - accuracy: 0.9558 - loss: 0.1468 - val_accuracy: 0.9721 - val_loss: 0.0919\n",
            "Epoch 3/10\n",
            "\u001b[1m300/300\u001b[0m \u001b[32m━━━━━━━━━━━━━━━━━━━━\u001b[0m\u001b[37m\u001b[0m \u001b[1m1s\u001b[0m 4ms/step - accuracy: 0.9712 - loss: 0.0951 - val_accuracy: 0.9792 - val_loss: 0.0645\n",
            "Epoch 4/10\n",
            "\u001b[1m300/300\u001b[0m \u001b[32m━━━━━━━━━━━━━━━━━━━━\u001b[0m\u001b[37m\u001b[0m \u001b[1m1s\u001b[0m 4ms/step - accuracy: 0.9771 - loss: 0.0751 - val_accuracy: 0.9800 - val_loss: 0.0589\n",
            "Epoch 5/10\n",
            "\u001b[1m300/300\u001b[0m \u001b[32m━━━━━━━━━━━━━━━━━━━━\u001b[0m\u001b[37m\u001b[0m \u001b[1m1s\u001b[0m 4ms/step - accuracy: 0.9795 - loss: 0.0633 - val_accuracy: 0.9827 - val_loss: 0.0526\n",
            "Epoch 6/10\n",
            "\u001b[1m300/300\u001b[0m \u001b[32m━━━━━━━━━━━━━━━━━━━━\u001b[0m\u001b[37m\u001b[0m \u001b[1m3s\u001b[0m 4ms/step - accuracy: 0.9831 - loss: 0.0545 - val_accuracy: 0.9862 - val_loss: 0.0435\n",
            "Epoch 7/10\n",
            "\u001b[1m300/300\u001b[0m \u001b[32m━━━━━━━━━━━━━━━━━━━━\u001b[0m\u001b[37m\u001b[0m \u001b[1m1s\u001b[0m 4ms/step - accuracy: 0.9857 - loss: 0.0464 - val_accuracy: 0.9864 - val_loss: 0.0407\n",
            "Epoch 8/10\n",
            "\u001b[1m300/300\u001b[0m \u001b[32m━━━━━━━━━━━━━━━━━━━━\u001b[0m\u001b[37m\u001b[0m \u001b[1m1s\u001b[0m 5ms/step - accuracy: 0.9874 - loss: 0.0401 - val_accuracy: 0.9865 - val_loss: 0.0422\n",
            "Epoch 9/10\n",
            "\u001b[1m300/300\u001b[0m \u001b[32m━━━━━━━━━━━━━━━━━━━━\u001b[0m\u001b[37m\u001b[0m \u001b[1m2s\u001b[0m 4ms/step - accuracy: 0.9876 - loss: 0.0394 - val_accuracy: 0.9877 - val_loss: 0.0371\n",
            "Epoch 10/10\n",
            "\u001b[1m300/300\u001b[0m \u001b[32m━━━━━━━━━━━━━━━━━━━━\u001b[0m\u001b[37m\u001b[0m \u001b[1m1s\u001b[0m 4ms/step - accuracy: 0.9891 - loss: 0.0359 - val_accuracy: 0.9889 - val_loss: 0.0337\n"
          ]
        },
        {
          "output_type": "execute_result",
          "data": {
            "text/plain": [
              "<keras.src.callbacks.history.History at 0x799783eb1f10>"
            ]
          },
          "metadata": {},
          "execution_count": 18
        }
      ]
    },
    {
      "cell_type": "code",
      "source": [
        "scores1 = model1.evaluate(X_test,y_test)"
      ],
      "metadata": {
        "colab": {
          "base_uri": "https://localhost:8080/"
        },
        "id": "4skTM7o8hhTz",
        "outputId": "127a8142-0464-45d9-9782-76c55480e3c4"
      },
      "execution_count": 19,
      "outputs": [
        {
          "output_type": "stream",
          "name": "stdout",
          "text": [
            "\u001b[1m313/313\u001b[0m \u001b[32m━━━━━━━━━━━━━━━━━━━━\u001b[0m\u001b[37m\u001b[0m \u001b[1m2s\u001b[0m 4ms/step - accuracy: 0.9862 - loss: 0.0421\n"
          ]
        }
      ]
    },
    {
      "cell_type": "code",
      "source": [
        "scores1"
      ],
      "metadata": {
        "colab": {
          "base_uri": "https://localhost:8080/"
        },
        "id": "YL-38E8diCR_",
        "outputId": "76788d14-4744-4c52-f210-6889462d7071"
      },
      "execution_count": 20,
      "outputs": [
        {
          "output_type": "execute_result",
          "data": {
            "text/plain": [
              "[0.0336611345410347, 0.9889000058174133]"
            ]
          },
          "metadata": {},
          "execution_count": 20
        }
      ]
    },
    {
      "cell_type": "code",
      "source": [
        "print(f'The accuracy of the model is: {scores1[1]}\\nThe error is: {100 - scores1[1]* 100}')"
      ],
      "metadata": {
        "colab": {
          "base_uri": "https://localhost:8080/"
        },
        "id": "GJtMNlfTiC1W",
        "outputId": "e144e226-87c3-4ee9-a822-296988eb3c7f"
      },
      "execution_count": 21,
      "outputs": [
        {
          "output_type": "stream",
          "name": "stdout",
          "text": [
            "The accuracy of the model is: 0.9889000058174133\n",
            "The error is: 1.109999418258667\n"
          ]
        }
      ]
    },
    {
      "cell_type": "markdown",
      "source": [
        "## practice 2\n",
        "\n",
        "changing batch_size to 1024"
      ],
      "metadata": {
        "id": "QFuVfbDWipFb"
      }
    },
    {
      "cell_type": "code",
      "source": [
        "model2 = convolutionalModel1()\n",
        "model2.fit(X_train,y_train, validation_data=(X_test,y_test), epochs=10, batch_size=1024)"
      ],
      "metadata": {
        "colab": {
          "base_uri": "https://localhost:8080/"
        },
        "id": "qsN4QcokiJLR",
        "outputId": "89ffc63d-c342-4e23-9ebc-a286892accb4"
      },
      "execution_count": 22,
      "outputs": [
        {
          "output_type": "stream",
          "name": "stdout",
          "text": [
            "Epoch 1/10\n",
            "\u001b[1m59/59\u001b[0m \u001b[32m━━━━━━━━━━━━━━━━━━━━\u001b[0m\u001b[37m\u001b[0m \u001b[1m6s\u001b[0m 60ms/step - accuracy: 0.4227 - loss: 1.8816 - val_accuracy: 0.8854 - val_loss: 0.3803\n",
            "Epoch 2/10\n",
            "\u001b[1m59/59\u001b[0m \u001b[32m━━━━━━━━━━━━━━━━━━━━\u001b[0m\u001b[37m\u001b[0m \u001b[1m1s\u001b[0m 9ms/step - accuracy: 0.9019 - loss: 0.3306 - val_accuracy: 0.9459 - val_loss: 0.1909\n",
            "Epoch 3/10\n",
            "\u001b[1m59/59\u001b[0m \u001b[32m━━━━━━━━━━━━━━━━━━━━\u001b[0m\u001b[37m\u001b[0m \u001b[1m1s\u001b[0m 9ms/step - accuracy: 0.9451 - loss: 0.1860 - val_accuracy: 0.9615 - val_loss: 0.1323\n",
            "Epoch 4/10\n",
            "\u001b[1m59/59\u001b[0m \u001b[32m━━━━━━━━━━━━━━━━━━━━\u001b[0m\u001b[37m\u001b[0m \u001b[1m1s\u001b[0m 8ms/step - accuracy: 0.9603 - loss: 0.1320 - val_accuracy: 0.9686 - val_loss: 0.1050\n",
            "Epoch 5/10\n",
            "\u001b[1m59/59\u001b[0m \u001b[32m━━━━━━━━━━━━━━━━━━━━\u001b[0m\u001b[37m\u001b[0m \u001b[1m1s\u001b[0m 8ms/step - accuracy: 0.9663 - loss: 0.1075 - val_accuracy: 0.9738 - val_loss: 0.0878\n",
            "Epoch 6/10\n",
            "\u001b[1m59/59\u001b[0m \u001b[32m━━━━━━━━━━━━━━━━━━━━\u001b[0m\u001b[37m\u001b[0m \u001b[1m1s\u001b[0m 8ms/step - accuracy: 0.9722 - loss: 0.0890 - val_accuracy: 0.9754 - val_loss: 0.0796\n",
            "Epoch 7/10\n",
            "\u001b[1m59/59\u001b[0m \u001b[32m━━━━━━━━━━━━━━━━━━━━\u001b[0m\u001b[37m\u001b[0m \u001b[1m1s\u001b[0m 9ms/step - accuracy: 0.9746 - loss: 0.0817 - val_accuracy: 0.9781 - val_loss: 0.0705\n",
            "Epoch 8/10\n",
            "\u001b[1m59/59\u001b[0m \u001b[32m━━━━━━━━━━━━━━━━━━━━\u001b[0m\u001b[37m\u001b[0m \u001b[1m1s\u001b[0m 8ms/step - accuracy: 0.9763 - loss: 0.0749 - val_accuracy: 0.9773 - val_loss: 0.0678\n",
            "Epoch 9/10\n",
            "\u001b[1m59/59\u001b[0m \u001b[32m━━━━━━━━━━━━━━━━━━━━\u001b[0m\u001b[37m\u001b[0m \u001b[1m1s\u001b[0m 8ms/step - accuracy: 0.9780 - loss: 0.0682 - val_accuracy: 0.9796 - val_loss: 0.0632\n",
            "Epoch 10/10\n",
            "\u001b[1m59/59\u001b[0m \u001b[32m━━━━━━━━━━━━━━━━━━━━\u001b[0m\u001b[37m\u001b[0m \u001b[1m1s\u001b[0m 9ms/step - accuracy: 0.9810 - loss: 0.0628 - val_accuracy: 0.9809 - val_loss: 0.0587\n"
          ]
        },
        {
          "output_type": "execute_result",
          "data": {
            "text/plain": [
              "<keras.src.callbacks.history.History at 0x799783da9f10>"
            ]
          },
          "metadata": {},
          "execution_count": 22
        }
      ]
    },
    {
      "cell_type": "code",
      "source": [
        "scores2 = model.evaluate(X_train,y_train)\n",
        "scores2"
      ],
      "metadata": {
        "colab": {
          "base_uri": "https://localhost:8080/"
        },
        "id": "t_gCts6DjBjT",
        "outputId": "5abcceff-e90d-4b62-a35b-26ffd75fa4c3"
      },
      "execution_count": 23,
      "outputs": [
        {
          "output_type": "stream",
          "name": "stdout",
          "text": [
            "\u001b[1m1875/1875\u001b[0m \u001b[32m━━━━━━━━━━━━━━━━━━━━\u001b[0m\u001b[37m\u001b[0m \u001b[1m5s\u001b[0m 3ms/step - accuracy: 0.9961 - loss: 0.0124\n"
          ]
        },
        {
          "output_type": "execute_result",
          "data": {
            "text/plain": [
              "[0.012521274387836456, 0.9962833523750305]"
            ]
          },
          "metadata": {},
          "execution_count": 23
        }
      ]
    },
    {
      "cell_type": "code",
      "source": [
        "print(f'The accuracy of the model is: {scores2[1]}\\nThe error is: {100 - scores2[1]* 100}')"
      ],
      "metadata": {
        "colab": {
          "base_uri": "https://localhost:8080/"
        },
        "id": "JAAqF_RNjK7p",
        "outputId": "d7909add-ce9b-478e-9e4a-e8f28fdb465f"
      },
      "execution_count": 24,
      "outputs": [
        {
          "output_type": "stream",
          "name": "stdout",
          "text": [
            "The accuracy of the model is: 0.9962833523750305\n",
            "The error is: 0.37166476249694824\n"
          ]
        }
      ]
    },
    {
      "cell_type": "markdown",
      "source": [
        "## practice 3\n",
        "\n",
        "batch_size=1024 and epochs=25"
      ],
      "metadata": {
        "id": "xIM-n1m8jYYb"
      }
    },
    {
      "cell_type": "code",
      "source": [
        "model3 = convolutionalModel1()\n",
        "model3.fit(X_train,y_train, validation_data=(X_test,y_test), epochs=25, batch_size=1024)"
      ],
      "metadata": {
        "colab": {
          "base_uri": "https://localhost:8080/"
        },
        "id": "yDCkjrzVjOyD",
        "outputId": "8f6ca888-e3fd-4b46-b8c8-03f41caf5db6"
      },
      "execution_count": 25,
      "outputs": [
        {
          "output_type": "stream",
          "name": "stdout",
          "text": [
            "Epoch 1/25\n",
            "\u001b[1m59/59\u001b[0m \u001b[32m━━━━━━━━━━━━━━━━━━━━\u001b[0m\u001b[37m\u001b[0m \u001b[1m5s\u001b[0m 40ms/step - accuracy: 0.4881 - loss: 1.7947 - val_accuracy: 0.8771 - val_loss: 0.4305\n",
            "Epoch 2/25\n",
            "\u001b[1m59/59\u001b[0m \u001b[32m━━━━━━━━━━━━━━━━━━━━\u001b[0m\u001b[37m\u001b[0m \u001b[1m3s\u001b[0m 11ms/step - accuracy: 0.8877 - loss: 0.3894 - val_accuracy: 0.9273 - val_loss: 0.2479\n",
            "Epoch 3/25\n",
            "\u001b[1m59/59\u001b[0m \u001b[32m━━━━━━━━━━━━━━━━━━━━\u001b[0m\u001b[37m\u001b[0m \u001b[1m1s\u001b[0m 9ms/step - accuracy: 0.9291 - loss: 0.2420 - val_accuracy: 0.9514 - val_loss: 0.1666\n",
            "Epoch 4/25\n",
            "\u001b[1m59/59\u001b[0m \u001b[32m━━━━━━━━━━━━━━━━━━━━\u001b[0m\u001b[37m\u001b[0m \u001b[1m1s\u001b[0m 8ms/step - accuracy: 0.9496 - loss: 0.1717 - val_accuracy: 0.9619 - val_loss: 0.1304\n",
            "Epoch 5/25\n",
            "\u001b[1m59/59\u001b[0m \u001b[32m━━━━━━━━━━━━━━━━━━━━\u001b[0m\u001b[37m\u001b[0m \u001b[1m1s\u001b[0m 8ms/step - accuracy: 0.9583 - loss: 0.1425 - val_accuracy: 0.9694 - val_loss: 0.1022\n",
            "Epoch 6/25\n",
            "\u001b[1m59/59\u001b[0m \u001b[32m━━━━━━━━━━━━━━━━━━━━\u001b[0m\u001b[37m\u001b[0m \u001b[1m1s\u001b[0m 8ms/step - accuracy: 0.9669 - loss: 0.1116 - val_accuracy: 0.9728 - val_loss: 0.0914\n",
            "Epoch 7/25\n",
            "\u001b[1m59/59\u001b[0m \u001b[32m━━━━━━━━━━━━━━━━━━━━\u001b[0m\u001b[37m\u001b[0m \u001b[1m1s\u001b[0m 8ms/step - accuracy: 0.9708 - loss: 0.0966 - val_accuracy: 0.9739 - val_loss: 0.0839\n",
            "Epoch 8/25\n",
            "\u001b[1m59/59\u001b[0m \u001b[32m━━━━━━━━━━━━━━━━━━━━\u001b[0m\u001b[37m\u001b[0m \u001b[1m1s\u001b[0m 9ms/step - accuracy: 0.9740 - loss: 0.0878 - val_accuracy: 0.9764 - val_loss: 0.0764\n",
            "Epoch 9/25\n",
            "\u001b[1m59/59\u001b[0m \u001b[32m━━━━━━━━━━━━━━━━━━━━\u001b[0m\u001b[37m\u001b[0m \u001b[1m1s\u001b[0m 11ms/step - accuracy: 0.9760 - loss: 0.0819 - val_accuracy: 0.9794 - val_loss: 0.0660\n",
            "Epoch 10/25\n",
            "\u001b[1m59/59\u001b[0m \u001b[32m━━━━━━━━━━━━━━━━━━━━\u001b[0m\u001b[37m\u001b[0m \u001b[1m1s\u001b[0m 10ms/step - accuracy: 0.9778 - loss: 0.0740 - val_accuracy: 0.9804 - val_loss: 0.0653\n",
            "Epoch 11/25\n",
            "\u001b[1m59/59\u001b[0m \u001b[32m━━━━━━━━━━━━━━━━━━━━\u001b[0m\u001b[37m\u001b[0m \u001b[1m1s\u001b[0m 8ms/step - accuracy: 0.9799 - loss: 0.0688 - val_accuracy: 0.9798 - val_loss: 0.0632\n",
            "Epoch 12/25\n",
            "\u001b[1m59/59\u001b[0m \u001b[32m━━━━━━━━━━━━━━━━━━━━\u001b[0m\u001b[37m\u001b[0m \u001b[1m1s\u001b[0m 8ms/step - accuracy: 0.9794 - loss: 0.0654 - val_accuracy: 0.9794 - val_loss: 0.0596\n",
            "Epoch 13/25\n",
            "\u001b[1m59/59\u001b[0m \u001b[32m━━━━━━━━━━━━━━━━━━━━\u001b[0m\u001b[37m\u001b[0m \u001b[1m1s\u001b[0m 9ms/step - accuracy: 0.9810 - loss: 0.0605 - val_accuracy: 0.9812 - val_loss: 0.0589\n",
            "Epoch 14/25\n",
            "\u001b[1m59/59\u001b[0m \u001b[32m━━━━━━━━━━━━━━━━━━━━\u001b[0m\u001b[37m\u001b[0m \u001b[1m1s\u001b[0m 8ms/step - accuracy: 0.9819 - loss: 0.0592 - val_accuracy: 0.9843 - val_loss: 0.0508\n",
            "Epoch 15/25\n",
            "\u001b[1m59/59\u001b[0m \u001b[32m━━━━━━━━━━━━━━━━━━━━\u001b[0m\u001b[37m\u001b[0m \u001b[1m1s\u001b[0m 8ms/step - accuracy: 0.9832 - loss: 0.0555 - val_accuracy: 0.9833 - val_loss: 0.0502\n",
            "Epoch 16/25\n",
            "\u001b[1m59/59\u001b[0m \u001b[32m━━━━━━━━━━━━━━━━━━━━\u001b[0m\u001b[37m\u001b[0m \u001b[1m1s\u001b[0m 8ms/step - accuracy: 0.9836 - loss: 0.0524 - val_accuracy: 0.9834 - val_loss: 0.0501\n",
            "Epoch 17/25\n",
            "\u001b[1m59/59\u001b[0m \u001b[32m━━━━━━━━━━━━━━━━━━━━\u001b[0m\u001b[37m\u001b[0m \u001b[1m1s\u001b[0m 9ms/step - accuracy: 0.9839 - loss: 0.0508 - val_accuracy: 0.9849 - val_loss: 0.0455\n",
            "Epoch 18/25\n",
            "\u001b[1m59/59\u001b[0m \u001b[32m━━━━━━━━━━━━━━━━━━━━\u001b[0m\u001b[37m\u001b[0m \u001b[1m1s\u001b[0m 8ms/step - accuracy: 0.9853 - loss: 0.0482 - val_accuracy: 0.9846 - val_loss: 0.0481\n",
            "Epoch 19/25\n",
            "\u001b[1m59/59\u001b[0m \u001b[32m━━━━━━━━━━━━━━━━━━━━\u001b[0m\u001b[37m\u001b[0m \u001b[1m1s\u001b[0m 8ms/step - accuracy: 0.9854 - loss: 0.0474 - val_accuracy: 0.9863 - val_loss: 0.0430\n",
            "Epoch 20/25\n",
            "\u001b[1m59/59\u001b[0m \u001b[32m━━━━━━━━━━━━━━━━━━━━\u001b[0m\u001b[37m\u001b[0m \u001b[1m1s\u001b[0m 8ms/step - accuracy: 0.9869 - loss: 0.0412 - val_accuracy: 0.9858 - val_loss: 0.0435\n",
            "Epoch 21/25\n",
            "\u001b[1m59/59\u001b[0m \u001b[32m━━━━━━━━━━━━━━━━━━━━\u001b[0m\u001b[37m\u001b[0m \u001b[1m1s\u001b[0m 8ms/step - accuracy: 0.9870 - loss: 0.0409 - val_accuracy: 0.9863 - val_loss: 0.0437\n",
            "Epoch 22/25\n",
            "\u001b[1m59/59\u001b[0m \u001b[32m━━━━━━━━━━━━━━━━━━━━\u001b[0m\u001b[37m\u001b[0m \u001b[1m1s\u001b[0m 8ms/step - accuracy: 0.9869 - loss: 0.0416 - val_accuracy: 0.9833 - val_loss: 0.0465\n",
            "Epoch 23/25\n",
            "\u001b[1m59/59\u001b[0m \u001b[32m━━━━━━━━━━━━━━━━━━━━\u001b[0m\u001b[37m\u001b[0m \u001b[1m1s\u001b[0m 9ms/step - accuracy: 0.9871 - loss: 0.0415 - val_accuracy: 0.9863 - val_loss: 0.0430\n",
            "Epoch 24/25\n",
            "\u001b[1m59/59\u001b[0m \u001b[32m━━━━━━━━━━━━━━━━━━━━\u001b[0m\u001b[37m\u001b[0m \u001b[1m1s\u001b[0m 9ms/step - accuracy: 0.9876 - loss: 0.0383 - val_accuracy: 0.9866 - val_loss: 0.0402\n",
            "Epoch 25/25\n",
            "\u001b[1m59/59\u001b[0m \u001b[32m━━━━━━━━━━━━━━━━━━━━\u001b[0m\u001b[37m\u001b[0m \u001b[1m1s\u001b[0m 8ms/step - accuracy: 0.9886 - loss: 0.0363 - val_accuracy: 0.9860 - val_loss: 0.0404\n"
          ]
        },
        {
          "output_type": "execute_result",
          "data": {
            "text/plain": [
              "<keras.src.callbacks.history.History at 0x7997700045d0>"
            ]
          },
          "metadata": {},
          "execution_count": 25
        }
      ]
    },
    {
      "cell_type": "code",
      "source": [
        "scores3 = model3.evaluate(X_train,y_train)\n",
        "scores3"
      ],
      "metadata": {
        "colab": {
          "base_uri": "https://localhost:8080/"
        },
        "id": "PFrE1d1bkADg",
        "outputId": "8b19b732-f5e2-4082-93eb-4d5257ef7ec3"
      },
      "execution_count": 26,
      "outputs": [
        {
          "output_type": "stream",
          "name": "stdout",
          "text": [
            "\u001b[1m1875/1875\u001b[0m \u001b[32m━━━━━━━━━━━━━━━━━━━━\u001b[0m\u001b[37m\u001b[0m \u001b[1m5s\u001b[0m 3ms/step - accuracy: 0.9886 - loss: 0.0350\n"
          ]
        },
        {
          "output_type": "execute_result",
          "data": {
            "text/plain": [
              "[0.03478999435901642, 0.9888333082199097]"
            ]
          },
          "metadata": {},
          "execution_count": 26
        }
      ]
    },
    {
      "cell_type": "code",
      "source": [
        "print(f'The accuracy of the model is: {scores3[1]}\\nThe error is: {100 - scores3[1]* 100}')"
      ],
      "metadata": {
        "colab": {
          "base_uri": "https://localhost:8080/"
        },
        "id": "Xh5XL1mTkFOY",
        "outputId": "418ed6ed-cf9d-427d-eb2a-2e4bfa4caae2"
      },
      "execution_count": 27,
      "outputs": [
        {
          "output_type": "stream",
          "name": "stdout",
          "text": [
            "The accuracy of the model is: 0.9888333082199097\n",
            "The error is: 1.1166691780090332\n"
          ]
        }
      ]
    },
    {
      "cell_type": "code",
      "source": [
        "all_scores = [scores,scores1,scores2,scores3]\n",
        "count = 1\n",
        "for score in all_scores:\n",
        "  print(f\"Model {count}: Accuracy: {score[1]} and Error: {100-score[1] * 100}\")\n",
        "  count+= 1\n"
      ],
      "metadata": {
        "colab": {
          "base_uri": "https://localhost:8080/"
        },
        "id": "oRav2dL7kKvl",
        "outputId": "2770dbff-f359-4e46-b40a-8cf22a78ddf9"
      },
      "execution_count": 28,
      "outputs": [
        {
          "output_type": "stream",
          "name": "stdout",
          "text": [
            "Model 1: Accuracy: 0.9869999885559082 and Error: 1.3000011444091797\n",
            "Model 2: Accuracy: 0.9889000058174133 and Error: 1.109999418258667\n",
            "Model 3: Accuracy: 0.9962833523750305 and Error: 0.37166476249694824\n",
            "Model 4: Accuracy: 0.9888333082199097 and Error: 1.1166691780090332\n"
          ]
        }
      ]
    },
    {
      "cell_type": "markdown",
      "source": [
        "## Implementing the model"
      ],
      "metadata": {
        "id": "WIgBySZQog_P"
      }
    },
    {
      "cell_type": "code",
      "source": [
        "import cv2"
      ],
      "metadata": {
        "id": "B_-8GfHsodlb"
      },
      "execution_count": 29,
      "outputs": []
    },
    {
      "cell_type": "code",
      "source": [
        "def classify_and_display_digit(image_path):\n",
        "  # loading and preprocessing the Image\n",
        "  img = cv2.imread(image_path, cv2.IMREAD_GRAYSCALE)\n",
        "  plt.imshow(img, cmap='gray')  # Displaying the image in grayscale\n",
        "  img = cv2.resize(img, (28, 28))  # Resizing to match MNIST data\n",
        "  img = img / 255.0  # Normalizing pixel values\n",
        "  img = img.reshape(1, 28, 28, 1)  # Reshaping for model input - Changed this line\n",
        "\n",
        "  #making predictions using the Model\n",
        "  prediction = model1.predict(img)\n",
        "  predicted_digit = np.argmax(prediction)  # Get the predicted digit\n",
        "\n",
        "  plt.title(f\"Predicted Digit: {predicted_digit}\")\n",
        "  plt.show()\n",
        "\n",
        "#implementation\n",
        "image_path = '/content/handwritten_4.jpg'  # Replace with your image path\n",
        "classify_and_display_digit(image_path)"
      ],
      "metadata": {
        "colab": {
          "base_uri": "https://localhost:8080/",
          "height": 469
        },
        "id": "r8RvjrUtoknG",
        "outputId": "0e126c24-c6a6-4eaf-b163-e78ebde6e1a8"
      },
      "execution_count": 32,
      "outputs": [
        {
          "output_type": "stream",
          "name": "stdout",
          "text": [
            "\u001b[1m1/1\u001b[0m \u001b[32m━━━━━━━━━━━━━━━━━━━━\u001b[0m\u001b[37m\u001b[0m \u001b[1m0s\u001b[0m 363ms/step\n"
          ]
        },
        {
          "output_type": "display_data",
          "data": {
            "text/plain": [
              "<Figure size 640x480 with 1 Axes>"
            ],
            "image/png": "[encoded data removed]"
          },
          "metadata": {}
        }
      ]
    },
    {
      "cell_type": "code",
      "source": [],
      "metadata": {
        "id": "rqEYUcJoqUdK"
      },
      "execution_count": null,
      "outputs": []
    }
  ]
}